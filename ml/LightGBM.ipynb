{
 "cells": [
  {
   "cell_type": "code",
   "execution_count": 1,
   "metadata": {},
   "outputs": [],
   "source": [
    "import json\n",
    "import lightgbm as lgb\n",
    "import pandas as pd\n",
    "from sklearn.metrics import mean_squared_error\n",
    "from sklearn.datasets import load_iris\n",
    "from sklearn.model_selection import train_test_split\n",
    "from sklearn.datasets import  make_classification"
   ]
  },
  {
   "cell_type": "code",
   "execution_count": 21,
   "metadata": {},
   "outputs": [],
   "source": [
    "from sklearn.preprocessing import LabelEncoder\n",
    "\n",
    "#个人收入数据\n",
    "adult_data = pd.read_csv('../data/DecisionTree.csv')\n",
    "#feature_columns = ['workclass', 'education', 'marital-status', 'occupation', 'relationship', 'race', 'gender', 'native-country']\n",
    "#label_column = ['income']\n",
    "\n",
    "for col in adult_data:\n",
    "    adult_data[col] = LabelEncoder().fit_transform(adult_data[col])\n",
    "    adult_data[col] = adult_data[col].astype('category')\n",
    "\n",
    "x = adult_data.values[:,0:8]\n",
    "y = adult_data.values[:,8]\n",
    "\n",
    "x_train, x_test, y_train, y_test = train_test_split(x, y, test_size=0.33)"
   ]
  },
  {
   "cell_type": "code",
   "execution_count": 24,
   "metadata": {},
   "outputs": [],
   "source": [
    "lgb_train = lgb.Dataset(x_train, y_train)\n",
    "lgb_eval = lgb.Dataset(x_test, y_test)"
   ]
  },
  {
   "cell_type": "code",
   "execution_count": 25,
   "metadata": {},
   "outputs": [
    {
     "name": "stdout",
     "output_type": "stream",
     "text": [
      "Start training...\n",
      "[LightGBM] [Info] Number of positive: 5323, number of negative: 16492\n",
      "[LightGBM] [Warning] Auto-choosing row-wise multi-threading, the overhead of testing was 0.001206 seconds.\n",
      "You can set `force_row_wise=true` to remove the overhead.\n",
      "And if memory is not enough, you can set `force_col_wise=true`.\n",
      "[LightGBM] [Info] Total Bins 101\n",
      "[LightGBM] [Info] Number of data points in the train set: 21815, number of used features: 8\n",
      "[LightGBM] [Info] [binary:BoostFromScore]: pavg=0.244006 -> initscore=-1.130838\n",
      "[LightGBM] [Info] Start training from score -1.130838\n",
      "[1]\tvalid_0's auc: 0.853396\tvalid_0's binary_logloss: 0.514566\n",
      "[2]\tvalid_0's auc: 0.856864\tvalid_0's binary_logloss: 0.491257\n",
      "[3]\tvalid_0's auc: 0.857666\tvalid_0's binary_logloss: 0.472954\n",
      "[4]\tvalid_0's auc: 0.858264\tvalid_0's binary_logloss: 0.457903\n",
      "[5]\tvalid_0's auc: 0.859345\tvalid_0's binary_logloss: 0.445409\n",
      "[6]\tvalid_0's auc: 0.859913\tvalid_0's binary_logloss: 0.435067\n",
      "[7]\tvalid_0's auc: 0.864082\tvalid_0's binary_logloss: 0.425366\n",
      "[8]\tvalid_0's auc: 0.865193\tvalid_0's binary_logloss: 0.417407\n",
      "[9]\tvalid_0's auc: 0.865555\tvalid_0's binary_logloss: 0.410729\n",
      "[10]\tvalid_0's auc: 0.866242\tvalid_0's binary_logloss: 0.404569\n"
     ]
    }
   ],
   "source": [
    "# 将参数写成字典下形式\n",
    "params = {\n",
    "    'task': 'train',\n",
    "    'boosting_type': 'gbdt',  # 设置提升类型\n",
    "    'objective': 'binary', # 目标函数\n",
    "    'metric': {'binary_logloss', 'auc'},  # 评估函数\n",
    "    'verbose': 1 # <0 显示致命的, =0 显示错误 (警告), >0 显示信息\n",
    "}\n",
    " \n",
    "print('Start training...')\n",
    "# 训练 cv and train\n",
    "gbm = lgb.train(params,lgb_train,num_boost_round=10,valid_sets=lgb_eval) \n",
    "#print('Start predicting...')\n",
    "# 预测数据集\n",
    "#y_pred = gbm.predict(x_test, num_iteration=gbm.best_iteration) \n",
    "# 评估模型\n",
    "# 计算真实值和预测值之间的均方根误差\n",
    "#print('The rmse of prediction is:', mean_squared_error(y_test, y_pred) ** 0.5) "
   ]
  },
  {
   "cell_type": "code",
   "execution_count": null,
   "metadata": {},
   "outputs": [],
   "source": []
  }
 ],
 "metadata": {
  "kernelspec": {
   "display_name": "Python 3",
   "language": "python",
   "name": "python3"
  },
  "language_info": {
   "codemirror_mode": {
    "name": "ipython",
    "version": 3
   },
   "file_extension": ".py",
   "mimetype": "text/x-python",
   "name": "python",
   "nbconvert_exporter": "python",
   "pygments_lexer": "ipython3",
   "version": "3.7.7"
  }
 },
 "nbformat": 4,
 "nbformat_minor": 4
}
